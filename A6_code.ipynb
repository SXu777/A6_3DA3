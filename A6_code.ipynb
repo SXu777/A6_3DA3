{
 "cells": [
  {
   "cell_type": "markdown",
   "metadata": {},
   "source": [
    "Shengbo Xu(400320009)"
   ]
  },
  {
   "cell_type": "markdown",
   "metadata": {},
   "source": [
    "1. By looking at this ckd dataset, a classification problem is to predict if a patient will have CKD in the future based on comparing similarities of the data. It is a binary classification problem because there are 2 options for CKD, either presence or absence. "
   ]
  },
  {
   "cell_type": "markdown",
   "metadata": {},
   "source": [
    "2. By looking at the datas, transformations on variables may be needed to get implemented. If we take all the inputs of the numeric numbers and make them to have a mean of 0 and a STDEV of 1 might be able to improved on this model, so it will be easier for us to notice the difference. "
   ]
  },
  {
   "cell_type": "code",
   "execution_count": 9,
   "metadata": {},
   "outputs": [
    {
     "name": "stdout",
     "output_type": "stream",
     "text": [
      "(400, 26)\n",
      "id         int64\n",
      "age      float64\n",
      "bp       float64\n",
      "sg       float64\n",
      "al       float64\n",
      "su       float64\n",
      "rbc       object\n",
      "pc        object\n",
      "pcc       object\n",
      "ba        object\n",
      "bgr      float64\n",
      "bu       float64\n",
      "sc       float64\n",
      "sod      float64\n",
      "pot      float64\n",
      "hemo     float64\n",
      "pcv      float64\n",
      "wbcc     float64\n",
      "rbcc     float64\n",
      "htn       object\n",
      "dm        object\n",
      "cad       object\n",
      "appet     object\n",
      "pe        object\n",
      "ane       object\n",
      "class     object\n",
      "dtype: object\n",
      "<bound method NDFrame.describe of       id   age    bp     sg   al   su     rbc        pc         pcc  \\\n",
      "0      1  48.0  80.0  1.020  1.0  0.0     NaN    normal  notpresent   \n",
      "1      2   7.0  50.0  1.020  4.0  0.0     NaN    normal  notpresent   \n",
      "2      3  62.0  80.0  1.010  2.0  3.0  normal    normal  notpresent   \n",
      "3      4  48.0  70.0  1.005  4.0  0.0  normal  abnormal     present   \n",
      "4      5  51.0  80.0  1.010  2.0  0.0  normal    normal  notpresent   \n",
      "..   ...   ...   ...    ...  ...  ...     ...       ...         ...   \n",
      "395  396  55.0  80.0  1.020  0.0  0.0  normal    normal  notpresent   \n",
      "396  397  42.0  70.0  1.025  0.0  0.0  normal    normal  notpresent   \n",
      "397  398  12.0  80.0  1.020  0.0  0.0  normal    normal  notpresent   \n",
      "398  399  17.0  60.0  1.025  0.0  0.0  normal    normal  notpresent   \n",
      "399  400  58.0  80.0  1.025  0.0  0.0  normal    normal  notpresent   \n",
      "\n",
      "             ba  ...   pcv    wbcc  rbcc  htn   dm  cad  appet   pe  ane  \\\n",
      "0    notpresent  ...  44.0  7800.0   5.2  yes  yes   no   good   no   no   \n",
      "1    notpresent  ...  38.0  6000.0   NaN   no   no   no   good   no   no   \n",
      "2    notpresent  ...  31.0  7500.0   NaN   no  yes   no   poor   no  yes   \n",
      "3    notpresent  ...  32.0  6700.0   3.9  yes   no   no   poor  yes  yes   \n",
      "4    notpresent  ...  35.0  7300.0   4.6   no   no   no   good   no   no   \n",
      "..          ...  ...   ...     ...   ...  ...  ...  ...    ...  ...  ...   \n",
      "395  notpresent  ...  47.0  6700.0   4.9   no   no   no   good   no   no   \n",
      "396  notpresent  ...  54.0  7800.0   6.2   no   no   no   good   no   no   \n",
      "397  notpresent  ...  49.0  6600.0   5.4   no   no   no   good   no   no   \n",
      "398  notpresent  ...  51.0  7200.0   5.9   no   no   no   good   no   no   \n",
      "399  notpresent  ...  53.0  6800.0   6.1   no   no   no   good   no   no   \n",
      "\n",
      "      class  \n",
      "0       ckd  \n",
      "1       ckd  \n",
      "2       ckd  \n",
      "3       ckd  \n",
      "4       ckd  \n",
      "..      ...  \n",
      "395  notckd  \n",
      "396  notckd  \n",
      "397  notckd  \n",
      "398  notckd  \n",
      "399  notckd  \n",
      "\n",
      "[400 rows x 26 columns]>\n"
     ]
    }
   ],
   "source": [
    "#Q3\n",
    "import pandas as pd\n",
    "import numpy as np\n",
    "\n",
    "ckd_data = pd.read_csv('ckd.csv')\n",
    "print(ckd_data.shape)\n",
    "print(ckd_data.dtypes)\n",
    "print(ckd_data.describe)\n"
   ]
  },
  {
   "cell_type": "markdown",
   "metadata": {},
   "source": [
    "3. This dataset can be used to predict the chronic kidney disease, there're 25 variables. The dataset has 400 rows and it contains catagories and numbers, it also contains missing values. For distributions, let's say for variables such as htn and dm, they show binary distributions where they indicate if they're presence/absense. "
   ]
  },
  {
   "cell_type": "code",
   "execution_count": 10,
   "metadata": {},
   "outputs": [
    {
     "name": "stdout",
     "output_type": "stream",
     "text": [
      "              age         bp        sg        al       su         bgr  \\\n",
      "class                                                                   \n",
      "ckd     54.541322  79.625000  1.013918  1.722488  0.76699  175.419811   \n",
      "notckd  46.516779  71.351351  1.022414  0.000000  0.00000  107.722222   \n",
      "\n",
      "               bu        sc         sod       pot       hemo        pcv  \\\n",
      "class                                                                     \n",
      "ckd     72.389030  4.414916  133.901786  4.878443  10.647549  32.939891   \n",
      "notckd  32.798611  0.868966  141.731034  4.337931  15.188194  46.335616   \n",
      "\n",
      "               wbcc      rbcc  \n",
      "class                          \n",
      "ckd     9069.536424  3.945238  \n",
      "notckd  7705.594406  5.379021  \n",
      "            id       age        bp        sg        al        su       bgr  \\\n",
      "id    1.000000 -0.185308 -0.245744  0.642156 -0.541993 -0.283416 -0.338673   \n",
      "age  -0.185308  1.000000  0.159480 -0.191096  0.122091  0.220866  0.244992   \n",
      "bp   -0.245744  0.159480  1.000000 -0.218836  0.160689  0.222576  0.160193   \n",
      "sg    0.642156 -0.191096 -0.218836  1.000000 -0.469760 -0.296234 -0.374710   \n",
      "al   -0.541993  0.122091  0.160689 -0.469760  1.000000  0.269305  0.379464   \n",
      "su   -0.283416  0.220866  0.222576 -0.296234  0.269305  1.000000  0.717827   \n",
      "bgr  -0.338673  0.244992  0.160193 -0.374710  0.379464  0.717827  1.000000   \n",
      "bu   -0.307175  0.196985  0.188517 -0.314295  0.453528  0.168583  0.143322   \n",
      "sc   -0.268683  0.132531  0.146222 -0.361473  0.399198  0.223244  0.114875   \n",
      "sod   0.364251 -0.100046 -0.116422  0.412190 -0.459896 -0.131776 -0.267848   \n",
      "pot  -0.092347  0.058377  0.075151 -0.072787  0.129038  0.219450  0.066966   \n",
      "hemo  0.640298 -0.192928 -0.306540  0.602582 -0.634632 -0.224775 -0.306189   \n",
      "pcv   0.630019 -0.242119 -0.326319  0.603560 -0.611891 -0.239189 -0.301385   \n",
      "wbcc -0.198641  0.118339  0.029753 -0.236215  0.231989  0.184893  0.150015   \n",
      "rbcc  0.605072 -0.268896 -0.261936  0.579476 -0.566437 -0.237448 -0.281541   \n",
      "\n",
      "            bu        sc       sod       pot      hemo       pcv      wbcc  \\\n",
      "id   -0.307175 -0.268683  0.364251 -0.092347  0.640298  0.630019 -0.198641   \n",
      "age   0.196985  0.132531 -0.100046  0.058377 -0.192928 -0.242119  0.118339   \n",
      "bp    0.188517  0.146222 -0.116422  0.075151 -0.306540 -0.326319  0.029753   \n",
      "sg   -0.314295 -0.361473  0.412190 -0.072787  0.602582  0.603560 -0.236215   \n",
      "al    0.453528  0.399198 -0.459896  0.129038 -0.634632 -0.611891  0.231989   \n",
      "su    0.168583  0.223244 -0.131776  0.219450 -0.224775 -0.239189  0.184893   \n",
      "bgr   0.143322  0.114875 -0.267848  0.066966 -0.306189 -0.301385  0.150015   \n",
      "bu    1.000000  0.586368 -0.323054  0.357049 -0.610360 -0.607621  0.050462   \n",
      "sc    0.586368  1.000000 -0.690158  0.326107 -0.401670 -0.404193 -0.006390   \n",
      "sod  -0.323054 -0.690158  1.000000  0.097887  0.365183  0.376914  0.007277   \n",
      "pot   0.357049  0.326107  0.097887  1.000000 -0.133746 -0.163182 -0.105576   \n",
      "hemo -0.610360 -0.401670  0.365183 -0.133746  1.000000  0.895382 -0.169413   \n",
      "pcv  -0.607621 -0.404193  0.376914 -0.163182  0.895382  1.000000 -0.197022   \n",
      "wbcc  0.050462 -0.006390  0.007277 -0.105576 -0.169413 -0.197022  1.000000   \n",
      "rbcc -0.579087 -0.400852  0.344873 -0.158309  0.798880  0.791625 -0.158163   \n",
      "\n",
      "          rbcc  \n",
      "id    0.605072  \n",
      "age  -0.268896  \n",
      "bp   -0.261936  \n",
      "sg    0.579476  \n",
      "al   -0.566437  \n",
      "su   -0.237448  \n",
      "bgr  -0.281541  \n",
      "bu   -0.579087  \n",
      "sc   -0.400852  \n",
      "sod   0.344873  \n",
      "pot  -0.158309  \n",
      "hemo  0.798880  \n",
      "pcv   0.791625  \n",
      "wbcc -0.158163  \n",
      "rbcc  1.000000  \n",
      "htn\n",
      "no     251\n",
      "yes    147\n",
      "Name: count, dtype: int64\n",
      "dm\n",
      "no     261\n",
      "yes    137\n",
      "Name: count, dtype: int64\n"
     ]
    }
   ],
   "source": [
    "#Q4\n",
    "\n",
    "num_var = ['age', 'bp', 'sg', 'al', 'su', 'bgr', 'bu', 'sc', 'sod', 'pot', 'hemo', 'pcv', 'wbcc', 'rbcc']\n",
    "for col in num_var:\n",
    "    ckd_data[col] = pd.to_numeric(ckd_data[col])\n",
    "\n",
    "mean_diff_class = ckd_data.groupby('class')[num_var].mean()\n",
    "print(mean_diff_class)\n",
    "\n",
    "num_features = ckd_data.select_dtypes(include=['float64', 'int64'])\n",
    "corr_mat = num_features.corr()\n",
    "print(corr_mat)\n",
    "\n",
    "#example such as showing htn and dm\n",
    "htn_counts = ckd_data['htn'].value_counts()\n",
    "dm_counts = ckd_data['dm'].value_counts()\n",
    "print(htn_counts)\n",
    "print(dm_counts)\n"
   ]
  },
  {
   "cell_type": "markdown",
   "metadata": {},
   "source": [
    "4. The mean(average) by class will show differences between the different groups, some might vary between different classes. The counts of some categorical variables such as blood pressure, it may indicate how the condition is distributed in this dataset. By analyzing numerical features, a high +/- numbers can show the relationships between variables. "
   ]
  },
  {
   "cell_type": "code",
   "execution_count": 11,
   "metadata": {},
   "outputs": [],
   "source": [
    "#Q5\n",
    "missing_values = ckd_data.isnull().sum()\n",
    "filtered = ckd_data.dropna()\n",
    "\n",
    "for col in num_var:\n",
    "    ckd_data[col].fillna(ckd_data[col].mean(), inplace=True)\n"
   ]
  },
  {
   "cell_type": "code",
   "execution_count": 12,
   "metadata": {},
   "outputs": [],
   "source": [
    "#Q6\n",
    "\n",
    "#could use z-score and IQR to identify outliers\n",
    "from scipy import stats\n",
    "z_scores = np.abs(stats.zscore(ckd_data['bp']))\n",
    "outlrs = np.where(z_scores > 3)\n",
    "\n",
    "Q1 = ckd_data['bp'].quantile(0.25)\n",
    "Q3 = ckd_data['bp'].quantile(0.75)\n",
    "IQR = Q3 - Q1\n",
    "lower_bd = Q1 - 1.5 * IQR\n",
    "upper_bd = Q3 + 1.5 * IQR\n",
    "outlrs = ckd_data[(ckd_data['bp'] < lower_bd) | (ckd_data['bp'] > upper_bd)]\n",
    "#cleaned\n",
    "no_outlrs = ckd_data[~((ckd_data['bp'] < lower_bd) | (ckd_data['bp'] > upper_bd))]\n"
   ]
  },
  {
   "cell_type": "code",
   "execution_count": 13,
   "metadata": {},
   "outputs": [
    {
     "name": "stderr",
     "output_type": "stream",
     "text": [
      "c:\\Users\\shawn\\miniconda3\\Lib\\site-packages\\sklearn\\cluster\\_kmeans.py:1412: FutureWarning: The default value of `n_init` will change from 10 to 'auto' in 1.4. Set the value of `n_init` explicitly to suppress the warning\n",
      "  super()._check_params_vs_input(X, default_n_init=10)\n",
      "c:\\Users\\shawn\\miniconda3\\Lib\\site-packages\\sklearn\\cluster\\_kmeans.py:1436: UserWarning: KMeans is known to have a memory leak on Windows with MKL, when there are less chunks than available threads. You can avoid it by setting the environment variable OMP_NUM_THREADS=2.\n",
      "  warnings.warn(\n"
     ]
    },
    {
     "data": {
      "image/png": "[encoded data removed]",
      "text/plain": [
       "<Figure size 600x400 with 2 Axes>"
      ]
     },
     "metadata": {},
     "output_type": "display_data"
    }
   ],
   "source": [
    "#Q7\n",
    "\n",
    "from sklearn.preprocessing import StandardScaler\n",
    "from sklearn.impute import SimpleImputer\n",
    "from sklearn.decomposition import PCA\n",
    "from sklearn.cluster import KMeans\n",
    "import matplotlib.pyplot as plt\n",
    "\n",
    "num_var = ckd_data.select_dtypes(include=['number']).columns\n",
    "for col in num_var:\n",
    "    ckd_data[col] = pd.to_numeric(ckd_data[col])\n",
    "\n",
    "imptr = SimpleImputer(strategy='mean')\n",
    "ckd_data[num_var] = imptr.fit_transform(ckd_data[num_var])\n",
    "\n",
    "scaler = StandardScaler()\n",
    "ckd_data_scaled = scaler.fit_transform(ckd_data[num_var])\n",
    "\n",
    "pca = PCA(n_components=2)\n",
    "principal_components = pca.fit_transform(ckd_data_scaled)\n",
    "kmeans = KMeans(n_clusters=3)\n",
    "kmeans.fit(principal_components)\n",
    "\n",
    "#must have no labels\n",
    "plt.figure(figsize=(6, 4))\n",
    "plt.scatter(principal_components[:, 0], principal_components[:, 1], c=kmeans.labels_, cmap='viridis')\n",
    "plt.title('Sub-group Analysis by using KMeans Clustering')\n",
    "plt.colorbar(label='Clustering')\n",
    "plt.show()\n"
   ]
  },
  {
   "cell_type": "code",
   "execution_count": 14,
   "metadata": {},
   "outputs": [
    {
     "name": "stdout",
     "output_type": "stream",
     "text": [
      "280\n",
      "120\n"
     ]
    }
   ],
   "source": [
    "#Q8\n",
    "from sklearn.model_selection import train_test_split\n",
    "\n",
    "set1 = ckd_data.drop(columns=['class'])\n",
    "set2 = ckd_data['class']\n",
    "\n",
    "train_1, test1, train_2, test2 = train_test_split(set1, set2, test_size=0.3, random_state=1)\n",
    "print(train_1.shape[0])\n",
    "print(test1.shape[0])\n",
    "\n"
   ]
  },
  {
   "cell_type": "markdown",
   "metadata": {},
   "source": [
    "9. Logistic regression: it is a straight-forward approach to get the results and it's good algorithm for binary classification problems which is this dataset we're working on.\n",
    " \n",
    "Random forest: it's an ensemble learning model that's effective for classification problems and it can handle categorical and numerical data which is what we have. "
   ]
  },
  {
   "cell_type": "markdown",
   "metadata": {},
   "source": [
    "10. Accuracy: it's the most intuitive performance measure and it is useful when the numbers of datas in each class is similar. \n",
    "\n",
    "Confusion matrix: it's a table used to describe the performance of a classifier of a dataset with known values, it visualizes the performance of an algorithm for binary classification problems which is our current dataset. "
   ]
  },
  {
   "cell_type": "code",
   "execution_count": 15,
   "metadata": {},
   "outputs": [
    {
     "name": "stdout",
     "output_type": "stream",
     "text": [
      "Accuracy: 1.0\n",
      "Precision: 1.0\n",
      "Recall: 1.0\n",
      "F1 Score: 1.0\n",
      "\n",
      "Accuracy: 1.0\n",
      "Precision: 1.0\n",
      "Recall: 1.0\n",
      "F1 Score: 1.0\n"
     ]
    }
   ],
   "source": [
    "#Q11 and Q12\n",
    "\n",
    "from sklearn.compose import ColumnTransformer\n",
    "from sklearn.pipeline import Pipeline\n",
    "from sklearn.ensemble import RandomForestClassifier\n",
    "from sklearn.metrics import accuracy_score, precision_score, recall_score, f1_score\n",
    "from sklearn.preprocessing import StandardScaler, OneHotEncoder\n",
    "from sklearn.feature_selection import SelectFromModel\n",
    "\n",
    "num_col = ckd_data.drop(columns='class').select_dtypes(include=['int64', 'float64']).columns\n",
    "cat_col = ckd_data.drop(columns='class').select_dtypes(include=['object']).columns\n",
    "preprocessor = ColumnTransformer(transformers=[('num', StandardScaler(), num_col),('cat', OneHotEncoder(), cat_col)])\n",
    "\n",
    "#use the classifier random forest example model from scikit-learn.org to get values before and after to compare\n",
    "rf_classifier = RandomForestClassifier(random_state=1)\n",
    "pipeline = Pipeline([('preprocessing', preprocessor),('classifier', rf_classifier)])\n",
    "pipeline.fit(train_1, train_2)\n",
    "predictions = pipeline.predict(test1)\n",
    "\n",
    "accuracy_before = accuracy_score(test2, predictions)\n",
    "precision_before = precision_score(test2, predictions, average='macro')\n",
    "recall_before = recall_score(test2, predictions, average='macro')\n",
    "f1_score_before = f1_score(test2, predictions, average='macro')\n",
    "\n",
    "print(f\"Accuracy: {accuracy_before}\")\n",
    "print(f\"Precision: {precision_before}\")\n",
    "print(f\"Recall: {recall_before}\")\n",
    "print(f\"F1 Score: {f1_score_before}\")\n",
    "\n",
    "feature_selection_pipeline = Pipeline(steps=[('preprocessing', preprocessor),('feature_selection', SelectFromModel(RandomForestClassifier(random_state=1), prefit=False)),\n",
    "    ('classifier', RandomForestClassifier(random_state=1))])\n",
    "feature_selection_pipeline.fit(train_1, train_2)\n",
    "predictions_fs = feature_selection_pipeline.predict(test1)\n",
    "\n",
    "accuracy_after = accuracy_score(test2, predictions_fs)\n",
    "precision_after = precision_score(test2, predictions_fs, average='macro')\n",
    "recall_after = recall_score(test2, predictions_fs, average='macro')\n",
    "f1_score_after = f1_score(test2, predictions_fs, average='macro')\n",
    "\n",
    "print(f\"\\nAccuracy: {accuracy_after}\")\n",
    "print(f\"Precision: {precision_after}\")\n",
    "print(f\"Recall: {recall_after}\")\n",
    "print(f\"F1 Score: {f1_score_after}\")\n"
   ]
  },
  {
   "cell_type": "markdown",
   "metadata": {},
   "source": [
    "12. By comparing the accuracy of logistic regression and random forest, it shows that they have the same results. In theory, one of them should have a more direct result than the other one. \n"
   ]
  },
  {
   "cell_type": "code",
   "execution_count": 16,
   "metadata": {},
   "outputs": [
    {
     "name": "stdout",
     "output_type": "stream",
     "text": [
      "pcv 0.1496562719838606\n",
      "sg 0.13352793004017266\n"
     ]
    }
   ],
   "source": [
    "#Q13\n",
    "\n",
    "import matplotlib.pyplot as plt\n",
    "import seaborn as sns\n",
    "\n",
    "pullout_feature = rf_classifier.feature_importances_\n",
    "cat_feature = preprocessor.named_transformers_['cat'].get_feature_names_out(cat_col)\n",
    "total_feature = np.concatenate([num_col, cat_feature])\n",
    "importances_series = pd.Series(data=pullout_feature, index=total_feature)\n",
    "sorted_values = importances_series.sort_values(ascending=False)\n",
    "\n",
    "print(sorted_values.index[1], sorted_values.iloc[1])\n",
    "print(sorted_values.index[2], sorted_values.iloc[2])\n"
   ]
  },
  {
   "cell_type": "markdown",
   "metadata": {},
   "source": [
    "13. After re-training, it'll show the importance of each predictor variables. It also help us to understand the impact of specific variables. For example, if a patient is older than the mean and the person has higher blood pressure, maybe this person will have a higher likelihood to get chronic kidney disease. \n",
    "\n",
    "In this case, I pulled out the first two most important values which are pcv-packed cell volumn and sg-specific gravity. Both of them are a indicators of factors of chronic kidney disease. "
   ]
  },
  {
   "cell_type": "markdown",
   "metadata": {},
   "source": [
    "15. Shengbo Xu"
   ]
  },
  {
   "cell_type": "markdown",
   "metadata": {},
   "source": [
    "reference: \n",
    "https://www.kdnuggets.com/2022/09/visualizing-confusion-matrix-scikitlearn.html#:~:text=Components%20of%20Confusion%20Matrix,%2C%20False%20Negative%20(FN).\n",
    "\n",
    "https://scikit-learn.org/stable/getting_started.html.\n",
    "\n",
    "https://github.com\n",
    "\n",
    "https://www.datacamp.com/tutorial/random-forests-classifier-python\n",
    "\n"
   ]
  }
 ],
 "metadata": {
  "kernelspec": {
   "display_name": "base",
   "language": "python",
   "name": "python3"
  },
  "language_info": {
   "codemirror_mode": {
    "name": "ipython",
    "version": 3
   },
   "file_extension": ".py",
   "mimetype": "text/x-python",
   "name": "python",
   "nbconvert_exporter": "python",
   "pygments_lexer": "ipython3",
   "version": "3.11.5"
  }
 },
 "nbformat": 4,
 "nbformat_minor": 2
}
